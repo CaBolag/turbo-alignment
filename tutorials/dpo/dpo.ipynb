{
 "cells": [
  {
   "cell_type": "code",
   "execution_count": null,
   "metadata": {},
   "outputs": [],
   "source": [
    "from datasets import load_dataset"
   ]
  },
  {
   "cell_type": "code",
   "execution_count": null,
   "metadata": {},
   "outputs": [],
   "source": [
    "ds = load_dataset(\"HuggingFaceH4/ultrafeedback_binarized\")\n",
    "ds['train_prefs'][0]"
   ]
  },
  {
   "cell_type": "markdown",
   "metadata": {},
   "source": [
    "# Prepare dataset"
   ]
  },
  {
   "cell_type": "code",
   "execution_count": null,
   "metadata": {},
   "outputs": [],
   "source": [
    "from turbo_alignment.dataset.pair_preferences.models import PairPreferenceRecord\n",
    "from turbo_alignment.dataset.chat.chat import ChatDatasetRecord"
   ]
  },
  {
   "cell_type": "code",
   "execution_count": null,
   "metadata": {},
   "outputs": [],
   "source": [
    "def convert_to_preference_record(row: dict[str, str | int]) -> PairPreferenceRecord:\n",
    "    assert row['messages'][:-1] == row['chosen'][:-1]\n",
    "    assert row['messages'][:-1] == row['rejected'][:-1]\n",
    "\n",
    "    for msg in row['messages']:\n",
    "        if msg['role'] == 'assistant':\n",
    "            msg['role'] = 'bot'\n",
    "    \n",
    "    row['chosen'][-1]['role'] = 'bot'\n",
    "    row['rejected'][-1]['role'] = 'bot'\n",
    "\n",
    "    return PairPreferenceRecord(\n",
    "        id=row['prompt_id'],\n",
    "        context=row['messages'][:-1],\n",
    "        answer_w=row['chosen'][-1],\n",
    "        answer_l=row['rejected'][-1],\n",
    "    ).dict()"
   ]
  },
  {
   "cell_type": "code",
   "execution_count": null,
   "metadata": {},
   "outputs": [],
   "source": [
    "def convert_to_chat_record(row: dict[str, str | int]) -> ChatDatasetRecord:\n",
    "    for msg in row['messages']:\n",
    "        if msg['role'] == 'assistant':\n",
    "            msg['role'] = 'bot'\n",
    "\n",
    "    return ChatDatasetRecord(\n",
    "        id=row['prompt_id'],\n",
    "        messages=row['messages'][:-1],\n",
    "    ).dict()"
   ]
  },
  {
   "cell_type": "code",
   "execution_count": null,
   "metadata": {},
   "outputs": [],
   "source": [
    "ds['train_pair_preference_records'] = ds['train_prefs'].map(convert_to_preference_record, remove_columns=ds['train_prefs'].column_names)\n",
    "ds['val_pair_preference_records'] = ds['test_prefs'].map(convert_to_preference_record, remove_columns=ds['test_prefs'].column_names)\n",
    "\n",
    "ds['val_chat_records'] = ds['test_prefs'].map(convert_to_chat_record, remove_columns=ds['test_prefs'].column_names)"
   ]
  },
  {
   "cell_type": "code",
   "execution_count": null,
   "metadata": {},
   "outputs": [],
   "source": [
    "from turbo_alignment.common.data.io import write_jsonl\n",
    "from pathlib import Path\n",
    "\n",
    "write_jsonl([item for item in ds['train_pair_preference_records']], Path('train_preferences.jsonl'))\n",
    "write_jsonl([item for item in ds['val_pair_preference_records']], Path('val_preferences.jsonl'))\n",
    "write_jsonl([item for item in ds['val_chat_records']], Path('val_chat.jsonl'))"
   ]
  },
  {
   "cell_type": "markdown",
   "metadata": {},
   "source": [
    "# DPO model training"
   ]
  },
  {
   "cell_type": "code",
   "execution_count": null,
   "metadata": {},
   "outputs": [],
   "source": [
    "!poetry run python -m turbo_alignment train_dpo --experiment_settings_path turbo-alignment/tutorials/dpo/dpo.json"
   ]
  }
 ],
 "metadata": {
  "kernelspec": {
   "display_name": "Python 3",
   "language": "python",
   "name": "python3"
  },
  "language_info": {
   "codemirror_mode": {
    "name": "ipython",
    "version": 3
   },
   "file_extension": ".py",
   "mimetype": "text/x-python",
   "name": "python",
   "nbconvert_exporter": "python",
   "pygments_lexer": "ipython3",
   "version": "3.11.4"
  },
  "orig_nbformat": 4
 },
 "nbformat": 4,
 "nbformat_minor": 2
}
